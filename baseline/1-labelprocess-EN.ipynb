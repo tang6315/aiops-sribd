{
 "cells": [
  {
   "source": [
    "# Lable Processing"
   ],
   "cell_type": "markdown",
   "metadata": {}
  },
  {
   "cell_type": "code",
   "execution_count": 1,
   "metadata": {},
   "outputs": [],
   "source": [
    "import pandas as pd\n",
    "import numpy as np\n",
    "import re"
   ]
  },
  {
   "cell_type": "code",
   "execution_count": 2,
   "metadata": {},
   "outputs": [
    {
     "output_type": "execute_result",
     "data": {
      "text/plain": [
       "array([[False, False],\n",
       "       [False, False],\n",
       "       [False, False],\n",
       "       ...,\n",
       "       [False, False],\n",
       "       [False, False],\n",
       "       [False, False]])"
      ]
     },
     "metadata": {},
     "execution_count": 2
    }
   ],
   "source": [
    "df = pd.read_csv(\"train_label.csv\")\n",
    "pd.isna(df).values"
   ]
  },
  {
   "cell_type": "code",
   "execution_count": 3,
   "metadata": {},
   "outputs": [
    {
     "output_type": "execute_result",
     "data": {
      "text/plain": [
       "array([[670, 'rootcause3'],\n",
       "       [673, 'rootcause3'],\n",
       "       [675, 'rootcause3'],\n",
       "       ...,\n",
       "       [2981, 'rootcause3'],\n",
       "       [2982, 'rootcause3'],\n",
       "       [2983, 'rootcause3']], dtype=object)"
      ]
     },
     "metadata": {},
     "execution_count": 3
    }
   ],
   "source": [
    "c = df.values\n",
    "c"
   ]
  },
  {
   "cell_type": "code",
   "execution_count": 4,
   "metadata": {},
   "outputs": [],
   "source": [
    "# create a 'new' array to store the label information\n",
    "new=np.zeros([c.shape[0],7])\n",
    "new[:,0]=c[:,0]"
   ]
  },
  {
   "cell_type": "code",
   "execution_count": 5,
   "metadata": {},
   "outputs": [
    {
     "output_type": "execute_result",
     "data": {
      "text/plain": [
       "array([[ 670.,    0.,    0., ...,    0.,    0.,    0.],\n",
       "       [ 673.,    0.,    0., ...,    0.,    0.,    0.],\n",
       "       [ 675.,    0.,    0., ...,    0.,    0.,    0.],\n",
       "       ...,\n",
       "       [2981.,    0.,    0., ...,    0.,    0.,    0.],\n",
       "       [2982.,    0.,    0., ...,    0.,    0.,    0.],\n",
       "       [2983.,    0.,    0., ...,    0.,    0.,    0.]])"
      ]
     },
     "metadata": {},
     "execution_count": 5
    }
   ],
   "source": [
    "for i in range(c.shape[0]):\n",
    "    if pd.isna(df).values[i,1] == False:\n",
    "        # re.findall() finds the number in the string\n",
    "        # by summing certain rows of the identity matrix, we get the root label\n",
    "        new[i,1:]=sum(    map(lambda x: np.eye(6)[int(x)-1], re.findall(\"\\d\",c[i,1]) )    ) \n",
    "new  "
   ]
  },
  {
   "cell_type": "code",
   "execution_count": 6,
   "metadata": {},
   "outputs": [
    {
     "output_type": "stream",
     "name": "stdout",
     "text": [
      "counts [ 112.   82. 1284.    0.    0.    0.]\nlabeled: 1407\ntotal: 1407\n"
     ]
    }
   ],
   "source": [
    "print(\"counts\",np.sum(new[:,1:],0)) # frequency of each lable\n",
    "print(\"labeled:\",len(np.nonzero(np.sum(new[:,1:],1))[0])) # number of labeled observations\n",
    "print(\"total:\", len(c[:,0])) # total observations"
   ]
  },
  {
   "cell_type": "code",
   "execution_count": 7,
   "metadata": {},
   "outputs": [],
   "source": [
    "np.savetxt('processed_label.csv', new, delimiter=',')"
   ]
  },
  {
   "cell_type": "code",
   "execution_count": null,
   "metadata": {},
   "outputs": [],
   "source": []
  }
 ],
 "metadata": {
  "kernelspec": {
   "name": "python37764bitc9babafd7183413cb8068466c7c9dfc7",
   "display_name": "Python 3.7.7 64-bit"
  },
  "language_info": {
   "codemirror_mode": {
    "name": "ipython",
    "version": 3
   },
   "file_extension": ".py",
   "mimetype": "text/x-python",
   "name": "python",
   "nbconvert_exporter": "python",
   "pygments_lexer": "ipython3",
   "version": "3.7.7"
  },
  "metadata": {
   "interpreter": {
    "hash": "30b954c17ac9d24de30e283a9ecc757232c45a95ecdb2ac7f5a79c1e3623a2ed"
   }
  }
 },
 "nbformat": 4,
 "nbformat_minor": 4
}