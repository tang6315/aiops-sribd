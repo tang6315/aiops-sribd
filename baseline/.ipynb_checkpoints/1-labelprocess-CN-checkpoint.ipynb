{
 "cells": [
  {
   "cell_type": "markdown",
   "metadata": {},
   "source": [
    "# 标签处理\n",
    "#### 将根因标记的中文转换为upload sample中的标准数字格式"
   ]
  },
  {
   "cell_type": "markdown",
   "metadata": {},
   "source": [
    "熟悉数据，查看是否有空值"
   ]
  },
  {
   "cell_type": "code",
   "execution_count": 1,
   "metadata": {},
   "outputs": [],
   "source": [
    "import pandas as pd\n",
    "import numpy as np\n",
    "import re"
   ]
  },
  {
   "cell_type": "code",
   "execution_count": 2,
   "metadata": {},
   "outputs": [
    {
     "data": {
      "text/plain": [
       "array([[False, False],\n",
       "       [False, False],\n",
       "       [False, False],\n",
       "       ...,\n",
       "       [False, False],\n",
       "       [False, False],\n",
       "       [False, False]])"
      ]
     },
     "execution_count": 2,
     "metadata": {},
     "output_type": "execute_result"
    }
   ],
   "source": [
    "df = pd.read_csv(\"train_label.csv\")\n",
    "pd.isna(df).values"
   ]
  },
  {
   "cell_type": "code",
   "execution_count": 3,
   "metadata": {},
   "outputs": [
    {
     "data": {
      "text/plain": [
       "array([[670, 'rootcause3'],\n",
       "       [673, 'rootcause3'],\n",
       "       [675, 'rootcause3'],\n",
       "       ...,\n",
       "       [2981, 'rootcause3'],\n",
       "       [2982, 'rootcause3'],\n",
       "       [2983, 'rootcause3']], dtype=object)"
      ]
     },
     "execution_count": 3,
     "metadata": {},
     "output_type": "execute_result"
    }
   ],
   "source": [
    "c = df.values\n",
    "c"
   ]
  },
  {
   "cell_type": "markdown",
   "metadata": {},
   "source": [
    "新建一个array，存储各个label/root cause出现的总次数"
   ]
  },
  {
   "cell_type": "code",
   "execution_count": 4,
   "metadata": {},
   "outputs": [],
   "source": [
    "new=np.zeros([c.shape[0],7])\n",
    "new[:,0]=c[:,0]"
   ]
  },
  {
   "cell_type": "code",
   "execution_count": 5,
   "metadata": {},
   "outputs": [
    {
     "data": {
      "text/plain": [
       "array([[ 670.,    0.,    0., ...,    0.,    0.,    0.],\n",
       "       [ 673.,    0.,    0., ...,    0.,    0.,    0.],\n",
       "       [ 675.,    0.,    0., ...,    0.,    0.,    0.],\n",
       "       ...,\n",
       "       [2981.,    0.,    0., ...,    0.,    0.,    0.],\n",
       "       [2982.,    0.,    0., ...,    0.,    0.,    0.],\n",
       "       [2983.,    0.,    0., ...,    0.,    0.,    0.]])"
      ]
     },
     "execution_count": 5,
     "metadata": {},
     "output_type": "execute_result"
    }
   ],
   "source": [
    "for i in range(c.shape[0]):\n",
    "    if pd.isna(df).values[i,1] == False:\n",
    "        # re.findall()用于找出文本中的所有根因数字\n",
    "        # 通过单位矩阵特定行的相加得到这一样本的所有根因次数\n",
    "        new[i,1:]=sum(    map(lambda x: np.eye(6)[int(x)-1], re.findall(\"\\d\",c[i,1]) )    ) \n",
    "new  "
   ]
  },
  {
   "cell_type": "code",
   "execution_count": 6,
   "metadata": {},
   "outputs": [
    {
     "name": "stdout",
     "output_type": "stream",
     "text": [
      "counts [ 112.   82. 1284.    0.    0.    0.]\n",
      "labeled: 1407\n",
      "total: 1407\n"
     ]
    }
   ],
   "source": [
    "print(\"counts\",np.sum(new[:,1:],0)) # 计算每一个根因出现的总次数\n",
    "print(\"labeled:\",len(np.nonzero(np.sum(new[:,1:],1))[0])) # 有标记根因的样本数\n",
    "print(\"total:\", len(c[:,0])) # 总共样本数"
   ]
  },
  {
   "cell_type": "code",
   "execution_count": 7,
   "metadata": {},
   "outputs": [],
   "source": [
    "# 保存\n",
    "np.savetxt('processed_label.csv', new, delimiter=',')"
   ]
  },
  {
   "cell_type": "code",
   "execution_count": null,
   "metadata": {},
   "outputs": [],
   "source": []
  }
 ],
 "metadata": {
  "kernelspec": {
   "display_name": "Python 3",
   "language": "python",
   "name": "python3"
  },
  "language_info": {
   "codemirror_mode": {
    "name": "ipython",
    "version": 3
   },
   "file_extension": ".py",
   "mimetype": "text/x-python",
   "name": "python",
   "nbconvert_exporter": "python",
   "pygments_lexer": "ipython3",
   "version": "3.8.3"
  },
  "metadata": {
   "interpreter": {
    "hash": "30b954c17ac9d24de30e283a9ecc757232c45a95ecdb2ac7f5a79c1e3623a2ed"
   }
  }
 },
 "nbformat": 4,
 "nbformat_minor": 4
}
